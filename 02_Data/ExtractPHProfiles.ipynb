{
 "cells": [
  {
   "cell_type": "code",
   "execution_count": 33,
   "id": "9fe2d582",
   "metadata": {},
   "outputs": [],
   "source": [
    "#!/usr/bin/env python3"
   ]
  },
  {
   "cell_type": "code",
   "execution_count": 34,
   "id": "256221b1",
   "metadata": {},
   "outputs": [
    {
     "data": {
      "text/html": [
       "<style>.container { width:100% !important; }</style>"
      ],
      "text/plain": [
       "<IPython.core.display.HTML object>"
      ]
     },
     "metadata": {},
     "output_type": "display_data"
    }
   ],
   "source": [
    "from IPython.display import display, HTML\n",
    "display(HTML(\"<style>.container { width:100% !important; }</style>\"))"
   ]
  },
  {
   "cell_type": "code",
   "execution_count": 35,
   "id": "8d6e263d",
   "metadata": {},
   "outputs": [
    {
     "name": "stdout",
     "output_type": "stream",
     "text": [
      "0.0\n",
      "1.8018018018018016\n",
      "3.603603603603603\n",
      "5.405405405405404\n",
      "7.207207207207206\n",
      "8.333333333333332\n",
      "8.504504504504505\n",
      "8.666666666666666\n",
      "0.7187665028662583\n",
      "0.8601726225117662\n",
      "0.9592504113065755\n"
     ]
    }
   ],
   "source": [
    "\"\"\"\n",
    "Created on Wed Aug 31 10:55:48 2022\n",
    "\n",
    "@author: shanrahan\n",
    "\"\"\"\n",
    "#ExtractFromTemmerman.py\n",
    "################################### README ################################### \n",
    "# Code is written to extract data from results of Temmerman and Leschziner 2001.\n",
    "# Dataset is available at https://turbmodels.larc.nasa.gov/Other_LES_Data/2dhill_periodic.html\n",
    "###############################################################################\n",
    "\n",
    "import os\n",
    "import numpy as np\n",
    "from matplotlib import pyplot as plt\n",
    "from scipy.interpolate import griddata, interp2d\n",
    "\n",
    "# Import Data from Temmerman\n",
    "os.chdir('/home/unimelb.edu.au/lcampoli/UoM/Testcases/PeriodicHill/01_Data/')\n",
    "\n",
    "with open('hill_LES_avgresults.dat','r') as f:\n",
    "    lines = f.readlines()\n",
    "\n",
    "l =[]\n",
    "for line in lines[23:]:\n",
    "    var = np.asarray(line.split())\n",
    "    l = np.concatenate([l,var.astype(float)])\n",
    "    \n",
    "x_ref  = l[:(196*128)]\n",
    "y_ref  = l[(196*128):2*(196*128)]\n",
    "p_ref  = l[(2*(196*128)):3*(196*128)]\n",
    "u_ref  = l[(3*(196*128)):4*(196*128)]\n",
    "v_ref  = l[(4*(196*128)):5*(196*128)]\n",
    "w_ref  = l[(5*(196*128)):6*(196*128)]\n",
    "nu_ref = l[(6*(196*128)):7*(196*128)]\n",
    "uu_ref = l[(7*(196*128)):8*(196*128)]\n",
    "vv_ref = l[(8*(196*128)):9*(196*128)]\n",
    "ww_ref = l[(9*(196*128)):10*(196*128)]\n",
    "uv_ref = l[(10*(196*128)):11*(196*128)]\n",
    "vw_ref = l[(11*(196*128)):12*(196*128)]\n",
    "k_ref  = l[(12*(196*128)):13*(196*128)]\n",
    "\n",
    "x_ref  = x_ref.reshape((128, 196))\n",
    "y_ref  = y_ref.reshape((128,196))\n",
    "u_ref  = u_ref.reshape((128,196))\n",
    "v_ref  = v_ref.reshape((128,196))\n",
    "p_ref  = p_ref.reshape((128,196))\n",
    "nu_ref = nu_ref.reshape((128,196))\n",
    "uu_ref = uu_ref.reshape((128,196))\n",
    "uv_ref = uv_ref.reshape((128,196))\n",
    "vv_ref = vv_ref.reshape((128,196))\n",
    "k_ref  = k_ref.reshape((128,196))\n",
    "\n",
    "del(w_ref, ww_ref, vw_ref)\n",
    "\n",
    "#%% Build Mesh from Cartesian Mesh\n",
    "\n",
    "xSamp = int(1000)\n",
    "ySamp = 128\n",
    "Ymax = 3.035*28\n",
    "#xGrid = np.linspace(0,252,xSamp)\n",
    "xGrid = np.zeros([ySamp,xSamp])\n",
    "yGrid = np.zeros([ySamp,xSamp])\n",
    "    \n",
    "    \n",
    "X = np.linspace(0,126,int(xSamp/2))  #X Coord for bottom wall\n",
    "Ymin = np.zeros([int(xSamp/2)])         #Y Coord for bottom wall\n",
    "\n",
    "\n",
    "X1 = np.linspace(0,252, xSamp)\n",
    "\n",
    "\n",
    "for i in range(int(xSamp/2)):    #Definition of hill on bottom wall\n",
    "    if X[i] < 9:\n",
    "        Ymin[i] = min(28, 2.800000000000E+01 + 0.000000000000E+00*X[i] + 6.775070969851E-03*X[i]**2 - 2.124527775800E-03*X[i]**3 )\n",
    "    if (X[i]>= 9) & (X[i]<14):\n",
    "        Ymin[i] = 2.507355893131E+01 + 9.754803562315E-01*X[i] - 1.016116352781E-01*X[i]**2  + 1.889794677828E-03*X[i]**3\n",
    "    if (X[i]>=14) & (X[i]<20):\n",
    "        Ymin[i] = 2.579601052357E+01 + 8.206693007457E-01*X[i] - 9.055370274339E-02*X[i]**2 + 1.626510569859E-03*X[i]**3\n",
    "    if (X[i]>=20) & (X[i]< 30):\n",
    "        Ymin[i] = 4.046435022819E+01 - 1.379581654948E+00*X[i] + 1.945884504128E-02*X[i]**2 - 2.070318932190E-04*X[i]**3\n",
    "    if (X[i]>=30) & (X[i]<40):\n",
    "        Ymin[i] = 1.792461334664E+01 + 8.743920332081E-01*X[i] - 5.567361123058E-02*X[i]**2  + 6.277731764683E-04*X[i]**3    \n",
    "    if (X[i]>=40) & (X[i]<54):\n",
    "        Ymin[i] = max(0., 5.639011190988E+01 - 2.010520359035E+00*X[i] + 1.644919857549E-02*X[i]**2 + 2.674976141766E-05*X[i]**3 )\n",
    "        \n",
    "    \n",
    "Ymin = np.concatenate((Ymin, np.flip(Ymin)), axis =0)/28.0 # Building next hill\n",
    "\n",
    "#scale grid stretching to new coords\n",
    "profile = y_ref[:,0]\n",
    "\n",
    "ytemp = np.zeros((profile.size))\n",
    "\n",
    "for i in range(int(xSamp)):\n",
    "    for j in range(profile.size):\n",
    "        ytemp[j] = Ymin[i] + (3.035 - Ymin[i])* ( profile[j] - profile.min())/(profile.max() - profile.min())\n",
    "    yGrid[:,i] = ytemp\n",
    "    xGrid[:,i] = X1[i]/28.0\n",
    "\n",
    "#plt.scatter(xGrid, yGrid)    \n",
    "#plt.show()\n",
    "#plt.close()\n",
    "\n",
    "#np.savetxt('tmp.txt', xGrid, newline='\\n')\n",
    "\n",
    "#print(xGrid[0,0])\n",
    "#print(xGrid[0,200])\n",
    "#print(xGrid[0,400])\n",
    "#print(xGrid[0,600])\n",
    "#print(xGrid[0,800])\n",
    "#print(xGrid[0,925])\n",
    "#print(xGrid[0,944])\n",
    "#print(xGrid[0,962])\n",
    "#print(yGrid[0,925])\n",
    "#print(yGrid[0,944])\n",
    "#print(yGrid[0,962])\n",
    "\n",
    "# Interpolate data onto Cartesian Mesh\n",
    "uGrid  = griddata((x_ref.flatten(),y_ref.flatten()),u_ref.flatten(),(xGrid,yGrid),method='linear')\n",
    "vGrid  = griddata((x_ref.flatten(),y_ref.flatten()),v_ref.flatten(),(xGrid,yGrid),method='linear')\n",
    "pGrid  = griddata((x_ref.flatten(),y_ref.flatten()),p_ref.flatten(),(xGrid,yGrid),method='linear')\n",
    "uuGrid = griddata((x_ref.flatten(),y_ref.flatten()),uu_ref.flatten(),(xGrid,yGrid),method='linear')\n",
    "uvGrid = griddata((x_ref.flatten(),y_ref.flatten()),uv_ref.flatten(),(xGrid,yGrid),method='linear')\n",
    "vvGrid = griddata((x_ref.flatten(),y_ref.flatten()),vv_ref.flatten(),(xGrid,yGrid),method='linear')\n",
    "kGrid  = griddata((x_ref.flatten(),y_ref.flatten()),k_ref.flatten(),(xGrid,yGrid),method='linear')\n",
    "\n",
    "#Pad Nan values with zero\n",
    "#uGrid[0,:] = 0"
   ]
  },
  {
   "cell_type": "code",
   "execution_count": 36,
   "id": "c37ef2d4",
   "metadata": {},
   "outputs": [],
   "source": [
    "os.chdir('/home/unimelb.edu.au/lcampoli/UoM/Testcases/PeriodicHill/01_Data/Re_10595')"
   ]
  },
  {
   "cell_type": "code",
   "execution_count": 37,
   "id": "09033751",
   "metadata": {},
   "outputs": [],
   "source": [
    "# Extract Profiles Required - Formatted to match existing databases\n",
    "p0 = np.concatenate([yGrid[:,0, np.newaxis], uGrid[:,0, np.newaxis], vGrid[:,0, np.newaxis], uuGrid[:,0, np.newaxis], vvGrid[:,0, np.newaxis], uvGrid[:,0, np.newaxis], kGrid[:,0, np.newaxis]], axis = 1)\n",
    "p0 = np.nan_to_num(p0, nan = 0)\n",
    "np.save('p00.npy', p0)\n",
    "np.savetxt('p00.txt', p0, delimiter=',')"
   ]
  },
  {
   "cell_type": "code",
   "execution_count": 38,
   "id": "f28b8540",
   "metadata": {},
   "outputs": [],
   "source": [
    "p11 = np.concatenate([yGrid[:,925, np.newaxis], uGrid[:,925, np.newaxis], vGrid[:,925, np.newaxis], uuGrid[:,925, np.newaxis], vvGrid[:,925, np.newaxis], uvGrid[:,925, np.newaxis], kGrid[:,925, np.newaxis]], axis = 1)\n",
    "p11 = np.nan_to_num(p11, nan = 0)\n",
    "np.save('p11.npy', p11)\n",
    "np.savetxt('p11.txt', p11, delimiter=',')"
   ]
  },
  {
   "cell_type": "code",
   "execution_count": 39,
   "id": "47924b3a",
   "metadata": {},
   "outputs": [],
   "source": [
    "p12 = np.concatenate([yGrid[:,944, np.newaxis], uGrid[:,944, np.newaxis], vGrid[:,944, np.newaxis], uuGrid[:,944, np.newaxis], vvGrid[:,944, np.newaxis], uvGrid[:,944, np.newaxis], kGrid[:,944, np.newaxis]],  axis = 1)\n",
    "p12 = np.nan_to_num(p12, nan = 0)\n",
    "np.save('p12.npy', p12)\n",
    "np.savetxt('p112.txt', p12, delimiter=',')"
   ]
  },
  {
   "cell_type": "code",
   "execution_count": 40,
   "id": "8e90d6ca",
   "metadata": {},
   "outputs": [],
   "source": [
    "p13 = np.concatenate([yGrid[:,962, np.newaxis], uGrid[:,962, np.newaxis], vGrid[:,962, np.newaxis], uuGrid[:,962, np.newaxis], vvGrid[:,962, np.newaxis], uvGrid[:,962, np.newaxis], kGrid[:,962, np.newaxis]], axis = 1)\n",
    "p13 = np.nan_to_num(p13, nan = 0)\n",
    "np.save('p13.npy', p13)\n",
    "np.savetxt('p13.txt', p13, delimiter=',')"
   ]
  },
  {
   "cell_type": "code",
   "execution_count": 41,
   "id": "f5a2da16",
   "metadata": {},
   "outputs": [],
   "source": [
    "p06 = np.concatenate([yGrid[:,6, np.newaxis], uGrid[:,6, np.newaxis], vGrid[:,6, np.newaxis], uuGrid[:,6, np.newaxis], vvGrid[:,6, np.newaxis], uvGrid[:,6, np.newaxis], kGrid[:,6, np.newaxis]], axis = 1)\n",
    "p06 = np.nan_to_num(p06, nan = 0)\n",
    "np.save('p06.npy', p06)\n",
    "np.savetxt('p06.txt', p06, delimiter=',')"
   ]
  },
  {
   "cell_type": "code",
   "execution_count": 42,
   "id": "f9b87a1f",
   "metadata": {},
   "outputs": [],
   "source": [
    "i = 111\n",
    "p111 = np.concatenate([yGrid[:,i, np.newaxis], uGrid[:,i, np.newaxis], vGrid[:,i, np.newaxis], uuGrid[:,i, np.newaxis], vvGrid[:,i, np.newaxis], uvGrid[:,i, np.newaxis], kGrid[:,i, np.newaxis]], axis = 1)\n",
    "p111 = np.nan_to_num(p111, nan = 0)\n",
    "np.save('p111.npy', p111)\n",
    "np.savetxt('p111.txt', p111, delimiter=',')"
   ]
  },
  {
   "cell_type": "code",
   "execution_count": 43,
   "id": "3912bdfa",
   "metadata": {},
   "outputs": [],
   "source": [
    "i = 222\n",
    "p222 = np.concatenate([yGrid[:,i, np.newaxis], uGrid[:,i, np.newaxis], vGrid[:,i, np.newaxis], uuGrid[:,i, np.newaxis], vvGrid[:,i, np.newaxis], uvGrid[:,i, np.newaxis], kGrid[:,i, np.newaxis]], axis = 1)\n",
    "p222 = np.nan_to_num(p222, nan = 0)\n",
    "np.save('p222.npy', p222)\n",
    "np.savetxt('p222.txt', p222, delimiter=',')"
   ]
  },
  {
   "cell_type": "code",
   "execution_count": 44,
   "id": "bd6130fb",
   "metadata": {},
   "outputs": [],
   "source": [
    "i = 333\n",
    "p333 = np.concatenate([yGrid[:,i, np.newaxis], uGrid[:,i, np.newaxis], vGrid[:,i, np.newaxis], uuGrid[:,i, np.newaxis], vvGrid[:,i, np.newaxis], uvGrid[:,i, np.newaxis], kGrid[:,i, np.newaxis]], axis = 1)\n",
    "p333 = np.nan_to_num(p333, nan = 0)\n",
    "np.save('p333.npy', p333)\n",
    "np.savetxt('p333.txt', p333, delimiter=',')"
   ]
  },
  {
   "cell_type": "code",
   "execution_count": 45,
   "id": "af59926b",
   "metadata": {},
   "outputs": [],
   "source": [
    "i = 444\n",
    "p444 = np.concatenate([yGrid[:,i, np.newaxis], uGrid[:,i, np.newaxis], vGrid[:,i, np.newaxis], uuGrid[:,i, np.newaxis], vvGrid[:,i, np.newaxis], uvGrid[:,i, np.newaxis], kGrid[:,i, np.newaxis]], axis = 1)\n",
    "p444 = np.nan_to_num(p444, nan = 0)\n",
    "np.save('p444.npy', p444)\n",
    "np.savetxt('p444.txt', p444, delimiter=',')"
   ]
  },
  {
   "cell_type": "code",
   "execution_count": 46,
   "id": "a9bbd26e",
   "metadata": {},
   "outputs": [],
   "source": [
    "i = 555\n",
    "p555 = np.concatenate([yGrid[:,i, np.newaxis], uGrid[:,i, np.newaxis], vGrid[:,i, np.newaxis], uuGrid[:,i, np.newaxis], vvGrid[:,i, np.newaxis], uvGrid[:,i, np.newaxis], kGrid[:,i, np.newaxis]], axis = 1)\n",
    "p555 = np.nan_to_num(p555, nan = 0)\n",
    "np.save('p555.npy', p555)\n",
    "np.savetxt('p555.txt', p555, delimiter=',')"
   ]
  },
  {
   "cell_type": "code",
   "execution_count": 47,
   "id": "187abeb4",
   "metadata": {},
   "outputs": [],
   "source": [
    "i = 666\n",
    "p666 = np.concatenate([yGrid[:,i, np.newaxis], uGrid[:,i, np.newaxis], vGrid[:,i, np.newaxis], uuGrid[:,i, np.newaxis], vvGrid[:,i, np.newaxis], uvGrid[:,i, np.newaxis], kGrid[:,i, np.newaxis]], axis = 1)\n",
    "p666 = np.nan_to_num(p666, nan = 0)\n",
    "np.save('p666.npy', p666)\n",
    "np.savetxt('p666.txt', p666, delimiter=',')"
   ]
  },
  {
   "cell_type": "code",
   "execution_count": 48,
   "id": "d50abbad",
   "metadata": {},
   "outputs": [],
   "source": [
    "i = 777\n",
    "p777 = np.concatenate([yGrid[:,i, np.newaxis], uGrid[:,i, np.newaxis], vGrid[:,i, np.newaxis], uuGrid[:,i, np.newaxis], vvGrid[:,i, np.newaxis], uvGrid[:,i, np.newaxis], kGrid[:,i, np.newaxis]], axis = 1)\n",
    "p777 = np.nan_to_num(p777, nan = 0)\n",
    "np.save('p777.npy', p777)\n",
    "np.savetxt('p777.txt', p777, delimiter=',')"
   ]
  },
  {
   "cell_type": "code",
   "execution_count": 49,
   "id": "7c08d202",
   "metadata": {},
   "outputs": [],
   "source": [
    "i = 888\n",
    "p888 = np.concatenate([yGrid[:,i, np.newaxis], uGrid[:,i, np.newaxis], vGrid[:,i, np.newaxis], uuGrid[:,i, np.newaxis], vvGrid[:,i, np.newaxis], uvGrid[:,i, np.newaxis], kGrid[:,i, np.newaxis]], axis = 1)\n",
    "p888 = np.nan_to_num(p888, nan = 0)\n",
    "np.save('p888.npy', p888)\n",
    "np.savetxt('p888.txt', p888, delimiter=',')"
   ]
  }
 ],
 "metadata": {
  "kernelspec": {
   "display_name": "Python 3 (ipykernel)",
   "language": "python",
   "name": "python3"
  },
  "language_info": {
   "codemirror_mode": {
    "name": "ipython",
    "version": 3
   },
   "file_extension": ".py",
   "mimetype": "text/x-python",
   "name": "python",
   "nbconvert_exporter": "python",
   "pygments_lexer": "ipython3",
   "version": "3.8.13"
  }
 },
 "nbformat": 4,
 "nbformat_minor": 5
}
